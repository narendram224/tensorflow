{
 "cells": [
  {
   "cell_type": "code",
   "execution_count": 2,
   "metadata": {},
   "outputs": [
    {
     "data": {
      "text/plain": [
       "5"
      ]
     },
     "execution_count": 2,
     "metadata": {},
     "output_type": "execute_result"
    }
   ],
   "source": [
    "2+3"
   ]
  },
  {
   "cell_type": "code",
   "execution_count": 1,
   "metadata": {},
   "outputs": [
    {
     "name": "stdout",
     "output_type": "stream",
     "text": [
      "W: [ 3.60571098  3.60571098]\n",
      "b: -1.2415721416473389\n",
      "plot_y: [ 0.54433495 -0.85566515]\n"
     ]
    },
    {
     "data": {
      "image/png": "[encoded data removed]",
      "text/plain": [
       "<matplotlib.figure.Figure at 0xbe9d240>"
      ]
     },
     "metadata": {},
     "output_type": "display_data"
    }
   ],
   "source": [
    "import tensorflow as tf\n",
    "import numpy as np\n",
    "import matplotlib.pyplot as plt\n",
    "NUM_FEATURES = 2\n",
    "NUM_ITER = 2000\n",
    "%matplotlib inline\n",
    "learning_rate = 0.01\n",
    "x = np.array([[0,0], [1,0], [1,1], [0,1]], np.float32)\n",
    "y = np.array([0, 1, 1, 1], np.float32)\n",
    "\n",
    "y = np.reshape(y, [4,1])\n",
    "\n",
    "X = tf.placeholder(tf.float32, shape=[4, 2])\n",
    "Y = tf.placeholder(tf.float32, shape=[4, 1])\n",
    "W = tf.Variable(tf.zeros([NUM_FEATURES, 1]), tf.float32)\n",
    "B = tf.Variable(tf.zeros([1, 1]), tf.float32)\n",
    "yHat = tf.sigmoid(tf.add(tf.matmul(X, W), B))\n",
    "err = Y - yHat\n",
    "deltaW = tf.matmul(tf.transpose(X), err)\n",
    "deltaB = tf.reduce_sum(err, 0)\n",
    "W_ = W + learning_rate * deltaW\n",
    "B_ = B + learning_rate * deltaB\n",
    "\n",
    "step = tf.group(W.assign(W_), B.assign(B_))\n",
    "\n",
    "sess = tf.Session()\n",
    "init = tf.global_variables_initializer()\n",
    "sess.run(init)\n",
    "\n",
    "for k in range (NUM_ITER):\n",
    "    sess.run([step], feed_dict={X: x, Y: y})\n",
    "\n",
    "W = np.squeeze(sess.run(W))\n",
    "b = np.squeeze(sess.run(B))\n",
    "\n",
    "plot_x = np.array([np.min(x[:, 0] - 0.2), np.max(x[:, 1] + 0.2)])\n",
    "plot_y = -1 / W[1] * (W[0] * plot_x + b)\n",
    "plot_y = np.reshape(plot_y, [2,-1])\n",
    "plot_y = np.squeeze(plot_y)\n",
    "\n",
    "print('W: ' + str(W))\n",
    "print('b: ' + str(b))\n",
    "print('plot_y: ' + str(plot_y))\n",
    "\n",
    "plt.scatter(x[:, 0], x[:, 1], s=100, cmap = 'viridis')\n",
    "plt.plot(plot_x, plot_y, color='k', linewidth=2)\n",
    "plt.xlim([-0.2, 1.2]); plt.ylim([-0.2, 1.25]);\n",
    "plt.show()"
   ]
  },
  {
   "cell_type": "code",
   "execution_count": null,
   "metadata": {
    "collapsed": true
   },
   "outputs": [],
   "source": []
  },
  {
   "cell_type": "code",
   "execution_count": null,
   "metadata": {
    "collapsed": true
   },
   "outputs": [],
   "source": []
  },
  {
   "cell_type": "code",
   "execution_count": null,
   "metadata": {
    "collapsed": true
   },
   "outputs": [],
   "source": []
  }
 ],
 "metadata": {
  "kernelspec": {
   "display_name": "Python 3",
   "language": "python",
   "name": "python3"
  },
  "language_info": {
   "codemirror_mode": {
    "name": "ipython",
    "version": 3
   },
   "file_extension": ".py",
   "mimetype": "text/x-python",
   "name": "python",
   "nbconvert_exporter": "python",
   "pygments_lexer": "ipython3",
   "version": "3.6.1"
  }
 },
 "nbformat": 4,
 "nbformat_minor": 2
}
