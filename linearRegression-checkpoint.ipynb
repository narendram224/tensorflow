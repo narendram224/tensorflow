{
 "cells": [
  {
   "cell_type": "code",
   "execution_count": 4,
   "metadata": {},
   "outputs": [
    {
     "ename": "SyntaxError",
     "evalue": "unexpected EOF while parsing (<ipython-input-4-3f5f62baa11d>, line 42)",
     "output_type": "error",
     "traceback": [
      "\u001b[1;36m  File \u001b[1;32m\"<ipython-input-4-3f5f62baa11d>\"\u001b[1;36m, line \u001b[1;32m42\u001b[0m\n\u001b[1;33m    \u001b[0m\n\u001b[1;37m    ^\u001b[0m\n\u001b[1;31mSyntaxError\u001b[0m\u001b[1;31m:\u001b[0m unexpected EOF while parsing\n"
     ]
    }
   ],
   "source": [
    "import numpy as np\n",
    "import tensorflow as tf\n",
    "import matplotlib.pyplot as plt\n",
    "\n",
    "tf.set_random_seed(101)\n",
    "\n",
    "x=np.linespace(0,50,50)\n",
    "y= np.linespace(0,50,50)\n",
    "\n",
    "print(x)\n",
    "\n",
    "x+=np.random.uniform(-4,4,50)\n",
    "y+=np.random.unoform(-4,4,50)\n",
    "print('\\n',x)\n",
    "\n",
    "n= len(x)\n",
    "\n",
    "plt.scatter(x,y)\n",
    "plt.xlabel('x')\n",
    "plt.ylabel('y')\n",
    "plt.title(\"training data\")\n",
    "plt.show()\n",
    "\n",
    "X=tf.placeholder(\"float\")\n",
    "Y = tf.placeholder(\"float\")\n",
    "\n",
    "W = tf.Variable(np.random.randn(),name=\"W\")\n",
    "b=tf.Variable(np.random.randn(),name = \"b\")\n",
    "learning_rate  = 0.01\n",
    "training_epochs = 1000\n",
    "\n",
    "y_pred = tf.add(tf.multiply(X,W),b)\n",
    "\n",
    "\n",
    "cost = tf.reduce_sum(tf.pow(y_pred-Y,2))/(2*n)\n",
    "\n",
    "optimizer  = tf.train.GradientDescenOptimizer(learning_rate).minimize(cost)\n",
    "\n",
    "init = tf.global_varibales_intilizer()\n",
    "\n",
    "with tf.Session()  as sess:\n",
    "\n"
   ]
  },
  {
   "cell_type": "code",
   "execution_count": null,
   "metadata": {
    "collapsed": true
   },
   "outputs": [],
   "source": []
  }
 ],
 "metadata": {
  "kernelspec": {
   "display_name": "Python 3",
   "language": "python",
   "name": "python3"
  },
  "language_info": {
   "codemirror_mode": {
    "name": "ipython",
    "version": 3
   },
   "file_extension": ".py",
   "mimetype": "text/x-python",
   "name": "python",
   "nbconvert_exporter": "python",
   "pygments_lexer": "ipython3",
   "version": "3.6.1"
  }
 },
 "nbformat": 4,
 "nbformat_minor": 2
}
